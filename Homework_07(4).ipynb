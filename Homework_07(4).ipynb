{
  "nbformat": 4,
  "nbformat_minor": 0,
  "metadata": {
    "colab": {
      "name": "Homework_07(4).ipynb",
      "provenance": [],
      "authorship_tag": "ABX9TyN8XNk/fhHYULYoQc2hCi1Z",
      "include_colab_link": true
    },
    "kernelspec": {
      "name": "python3",
      "display_name": "Python 3"
    },
    "language_info": {
      "name": "python"
    }
  },
  "cells": [
    {
      "cell_type": "markdown",
      "metadata": {
        "id": "view-in-github",
        "colab_type": "text"
      },
      "source": [
        "<a href=\"https://colab.research.google.com/github/jacksonchen1998/NTUT-Machine-Leraning-Course/blob/main/Homework_07(4).ipynb\" target=\"_parent\"><img src=\"https://colab.research.google.com/assets/colab-badge.svg\" alt=\"Open In Colab\"/></a>"
      ]
    },
    {
      "cell_type": "code",
      "execution_count": 5,
      "metadata": {
        "colab": {
          "base_uri": "https://localhost:8080/"
        },
        "id": "wxM53vmtUiZB",
        "outputId": "86659695-5b08-4eda-aad4-779e9ea2aa04"
      },
      "outputs": [
        {
          "output_type": "stream",
          "name": "stdout",
          "text": [
            "Epoch 1/10\n",
            "3/3 [==============================] - 0s 6ms/step - loss: 2.6755 - accuracy: 0.3333\n",
            "Epoch 2/10\n",
            "3/3 [==============================] - 0s 4ms/step - loss: 2.5008 - accuracy: 0.3333\n",
            "Epoch 3/10\n",
            "3/3 [==============================] - 0s 5ms/step - loss: 2.3790 - accuracy: 0.3333\n",
            "Epoch 4/10\n",
            "3/3 [==============================] - 0s 5ms/step - loss: 2.2758 - accuracy: 0.3333\n",
            "Epoch 5/10\n",
            "3/3 [==============================] - 0s 6ms/step - loss: 2.1781 - accuracy: 0.3333\n",
            "Epoch 6/10\n",
            "3/3 [==============================] - 0s 5ms/step - loss: 2.0893 - accuracy: 0.3333\n",
            "Epoch 7/10\n",
            "3/3 [==============================] - 0s 8ms/step - loss: 2.0069 - accuracy: 0.3333\n",
            "Epoch 8/10\n",
            "3/3 [==============================] - 0s 4ms/step - loss: 1.9257 - accuracy: 0.3333\n",
            "Epoch 9/10\n",
            "3/3 [==============================] - 0s 6ms/step - loss: 1.8470 - accuracy: 0.3333\n",
            "Epoch 10/10\n",
            "3/3 [==============================] - 0s 4ms/step - loss: 1.7704 - accuracy: 0.3333\n",
            "2/2 [==============================] - 0s 9ms/step - loss: 1.7162 - accuracy: 0.3333\n",
            "Test Accuracy:  0.3333333432674408 \n",
            "Test Loss:  1.7161849737167358\n"
          ]
        }
      ],
      "source": [
        "import numpy as np\n",
        "from sklearn import datasets\n",
        "from sklearn.model_selection import train_test_split\n",
        "from keras import models\n",
        "from keras import layers\n",
        "from tensorflow.keras.utils import to_categorical\n",
        "\n",
        "network = models.Sequential()\n",
        "network.add(layers.Dense(10, activation='relu', input_shape=(4,)))\n",
        "network.add(layers.Dense(3, activation='softmax'))\n",
        "network.compile(optimizer='rmsprop',\n",
        "                loss='categorical_crossentropy',\n",
        "                metrics=['accuracy'])\n",
        "\n",
        "iris = datasets.load_iris()\n",
        "X = iris.data\n",
        "y = iris.target\n",
        "\n",
        "X_train, X_test, y_train, y_test = train_test_split(X, y, test_size=0.3, stratify=y, random_state=42)\n",
        "train_labels = to_categorical(y_train)\n",
        "test_labels = to_categorical(y_test)\n",
        "network.fit(X_train, train_labels, epochs=10, batch_size=40)\n",
        "test_loss, test_acc = network.evaluate(X_test, test_labels)\n",
        "print('Test Accuracy: ', test_acc, '\\nTest Loss: ', test_loss)"
      ]
    }
  ]
}