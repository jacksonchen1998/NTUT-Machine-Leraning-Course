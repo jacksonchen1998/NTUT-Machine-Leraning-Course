{
  "nbformat": 4,
  "nbformat_minor": 0,
  "metadata": {
    "colab": {
      "name": "Homework_06.ipynb",
      "provenance": [],
      "collapsed_sections": [],
      "authorship_tag": "ABX9TyNHLfepg4k18/UOdFP8i4SW",
      "include_colab_link": true
    },
    "kernelspec": {
      "name": "python3",
      "display_name": "Python 3"
    },
    "language_info": {
      "name": "python"
    }
  },
  "cells": [
    {
      "cell_type": "markdown",
      "metadata": {
        "id": "view-in-github",
        "colab_type": "text"
      },
      "source": [
        "<a href=\"https://colab.research.google.com/github/jacksonchen1998/NTUT-Machine-Leraning-Course/blob/main/Homework_06.ipynb\" target=\"_parent\"><img src=\"https://colab.research.google.com/assets/colab-badge.svg\" alt=\"Open In Colab\"/></a>"
      ]
    },
    {
      "cell_type": "markdown",
      "source": [
        "Use the kernel SVM to classify the Iris data set. \n",
        "\n",
        "As usual, take 70% of the samole as training set and the rest 30% for testing. To simplify the problem, use the default values for C and γ. \n",
        "\n",
        "Report the average accuracy after 10 trials."
      ],
      "metadata": {
        "id": "Bce99OXmSR2t"
      }
    },
    {
      "cell_type": "code",
      "execution_count": 1,
      "metadata": {
        "id": "8t8eZEHiSMYO"
      },
      "outputs": [],
      "source": [
        "import pandas as pd\n",
        "import numpy as np\n",
        "import matplotlib.pyplot as plt\n",
        "import seaborn as sns\n",
        "from sklearn.datasets import load_iris"
      ]
    },
    {
      "cell_type": "code",
      "source": [
        "from sklearn import svm\n",
        "from sklearn.model_selection import train_test_split\n",
        "from sklearn.decomposition import PCA\n",
        "\n",
        "sum = 0\n",
        "\n",
        "for _ in range(10):\n",
        "  iris = load_iris()\n",
        "  df_data = pd.DataFrame(data= np.c_[iris['data'], iris['target']],\n",
        "                     columns= ['SepalLengthCm','SepalWidthCm','PetalLengthCm','PetalWidthCm','Species'])\n",
        "  X = df_data.drop(labels=['Species'],axis=1).values # 移除Species並取得剩下欄位資料\n",
        "  y = df_data['Species'].values\n",
        "  X_train, X_test, y_train, y_test = train_test_split(X, y, test_size=0.3, random_state=42, stratify=y)\n",
        "\n",
        "  pca = PCA(n_components=2, iterated_power=1)\n",
        "  train_reduced = pca.fit_transform(X_train)\n",
        "\n",
        "  # 建立 kernel='rbf' 模型\n",
        "  rbfModel=svm.SVC(kernel='rbf', gamma=0.7, C=1)\n",
        "  # 使用訓練資料訓練模型\n",
        "  rbfModel.fit(train_reduced, y_train)\n",
        "  # 使用訓練資料預測分類\n",
        "  predicted=rbfModel.predict(train_reduced)\n",
        "  # 計算準確率\n",
        "  sum += rbfModel.score(train_reduced, y_train)\n",
        "\n",
        "print('Accuracy rate: ', sum / 10)"
      ],
      "metadata": {
        "colab": {
          "base_uri": "https://localhost:8080/"
        },
        "id": "MFaRn2naTm0R",
        "outputId": "d095332b-3dc0-4947-bbda-c7457a262344"
      },
      "execution_count": 2,
      "outputs": [
        {
          "output_type": "stream",
          "name": "stdout",
          "text": [
            "0.9714285714285714\n",
            "1.9428571428571428\n",
            "2.914285714285714\n",
            "3.8857142857142857\n",
            "4.857142857142857\n",
            "5.828571428571428\n",
            "6.8\n",
            "7.771428571428571\n",
            "8.742857142857142\n",
            "9.714285714285714\n",
            "Accuracy rate:  0.9714285714285713\n"
          ]
        }
      ]
    }
  ]
}