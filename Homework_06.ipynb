{
  "nbformat": 4,
  "nbformat_minor": 0,
  "metadata": {
    "colab": {
      "name": "Homework_06.ipynb",
      "provenance": [],
      "collapsed_sections": [],
      "authorship_tag": "ABX9TyNpUaCMUg2oes0aUK/uTsIC",
      "include_colab_link": true
    },
    "kernelspec": {
      "name": "python3",
      "display_name": "Python 3"
    },
    "language_info": {
      "name": "python"
    }
  },
  "cells": [
    {
      "cell_type": "markdown",
      "metadata": {
        "id": "view-in-github",
        "colab_type": "text"
      },
      "source": [
        "<a href=\"https://colab.research.google.com/github/jacksonchen1998/NTUT-Machine-Leraning-Course/blob/main/Homework_06.ipynb\" target=\"_parent\"><img src=\"https://colab.research.google.com/assets/colab-badge.svg\" alt=\"Open In Colab\"/></a>"
      ]
    },
    {
      "cell_type": "markdown",
      "source": [
        "Use the kernel SVM to classify the Iris data set. \n",
        "\n",
        "As usual, take 70% of the samole as training set and the rest 30% for testing. To simplify the problem, use the default values for C and γ. \n",
        "\n",
        "Report the average accuracy after 10 trials."
      ],
      "metadata": {
        "id": "Bce99OXmSR2t"
      }
    },
    {
      "cell_type": "code",
      "source": [
        "import pandas as pd\n",
        "import numpy as np\n",
        "from sklearn.datasets import load_iris\n",
        "from sklearn import svm\n",
        "from sklearn.model_selection import train_test_split\n",
        "from sklearn.decomposition import PCA\n",
        "\n",
        "sum_4 = 0\n",
        "\n",
        "for _ in range(10):\n",
        "  iris = load_iris()\n",
        "  df_data = pd.DataFrame(data= np.c_[iris['data'], iris['target']],\n",
        "                     columns= ['SepalLengthCm','SepalWidthCm','PetalLengthCm','PetalWidthCm','Species'])\n",
        "  X = df_data.drop(labels=['Species'],axis=1).values\n",
        "  y = df_data['Species'].values\n",
        "  X_train, X_test, y_train, y_test = train_test_split(X, y, test_size=0.3, random_state=42, stratify=y)\n",
        "\n",
        "  pca = PCA(n_components=2, iterated_power=1)\n",
        "  train_reduced = pca.fit_transform(X_train)\n",
        "\n",
        "  rbfModel=svm.SVC(kernel='rbf', gamma=0.7, C=1) # kernel = 'Radial Basis Function'\n",
        "  rbfModel.fit(train_reduced, y_train)\n",
        "  predicted=rbfModel.predict(train_reduced)\n",
        "  sum_4 += rbfModel.score(train_reduced, y_train)\n",
        "\n",
        "print('Accuracy rate: ', sum_4 / 10)"
      ],
      "metadata": {
        "colab": {
          "base_uri": "https://localhost:8080/"
        },
        "id": "MFaRn2naTm0R",
        "outputId": "4c5bc517-a400-4bb7-e6cd-0c78488aad6b"
      },
      "execution_count": 1,
      "outputs": [
        {
          "output_type": "stream",
          "name": "stdout",
          "text": [
            "Accuracy rate:  0.9714285714285713\n"
          ]
        }
      ]
    },
    {
      "cell_type": "markdown",
      "source": [
        "Repeat problem 4 with Adaboost classifier.\n",
        "\n",
        "When compare the accuracy obtained from problem 4 and this problem, which one is better ?"
      ],
      "metadata": {
        "id": "8RjuPz7lY9E5"
      }
    },
    {
      "cell_type": "code",
      "source": [
        "from sklearn.ensemble import AdaBoostClassifier\n",
        "from sklearn import datasets\n",
        "from sklearn.model_selection import train_test_split\n",
        "from sklearn import metrics\n",
        "from sklearn.svm import SVC\n",
        "\n",
        "sum_5 = 0\n",
        "\n",
        "for _ in range(10):\n",
        "    iris = datasets.load_iris()\n",
        "    X = iris.data\n",
        "    y = iris.target\n",
        "\n",
        "    X_train, X_test, y_train, y_test = train_test_split(X, y, test_size=0.3)\n",
        "    svc=SVC(probability=True, kernel='linear')\n",
        "    abc =AdaBoostClassifier(n_estimators=50, base_estimator=svc,learning_rate=1)\n",
        "    model = abc.fit(X_train, y_train)\n",
        "    y_pred = model.predict(X_test)\n",
        "    sum_5 += metrics.accuracy_score(y_test, y_pred)\n",
        "    \n",
        "print(\"Accuracy: \", sum_5 / 10)"
      ],
      "metadata": {
        "colab": {
          "base_uri": "https://localhost:8080/"
        },
        "id": "9u5yzQpGY9T3",
        "outputId": "ea55f96d-f7df-4be9-da67-75efab744c1c"
      },
      "execution_count": 2,
      "outputs": [
        {
          "output_type": "stream",
          "name": "stdout",
          "text": [
            "Accuracy:  0.9488888888888889\n"
          ]
        }
      ]
    },
    {
      "cell_type": "code",
      "source": [
        "if (sum_5 / 10) > (sum_4 / 10):\n",
        "  print(\"AdaBoost classifier is better\")\n",
        "elif (sum_5 / 10) < (sum_4 / 10):\n",
        "  print(\"SVM with kernel called Radial Basis Function is better\")\n",
        "else:\n",
        "  print(\"Same accuracy for both solution\")"
      ],
      "metadata": {
        "colab": {
          "base_uri": "https://localhost:8080/"
        },
        "id": "uDSTAX3HZfOY",
        "outputId": "8df6e36e-0191-406a-8564-6eecc8085ff7"
      },
      "execution_count": 3,
      "outputs": [
        {
          "output_type": "stream",
          "name": "stdout",
          "text": [
            "SVM with kernel called Radial Basis Function is better\n"
          ]
        }
      ]
    }
  ]
}