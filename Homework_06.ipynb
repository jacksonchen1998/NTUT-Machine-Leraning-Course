{
  "nbformat": 4,
  "nbformat_minor": 0,
  "metadata": {
    "colab": {
      "name": "Homework_06.ipynb",
      "provenance": [],
      "collapsed_sections": [],
      "authorship_tag": "ABX9TyOMic5HP12wQ81vg7hO0d2i",
      "include_colab_link": true
    },
    "kernelspec": {
      "name": "python3",
      "display_name": "Python 3"
    },
    "language_info": {
      "name": "python"
    }
  },
  "cells": [
    {
      "cell_type": "markdown",
      "metadata": {
        "id": "view-in-github",
        "colab_type": "text"
      },
      "source": [
        "<a href=\"https://colab.research.google.com/github/jacksonchen1998/NTUT-Machine-Leraning-Course/blob/main/Homework_06.ipynb\" target=\"_parent\"><img src=\"https://colab.research.google.com/assets/colab-badge.svg\" alt=\"Open In Colab\"/></a>"
      ]
    },
    {
      "cell_type": "markdown",
      "source": [
        "Use the kernel SVM to classify the Iris data set. \n",
        "\n",
        "As usual, take 70% of the samole as training set and the rest 30% for testing. To simplify the problem, use the default values for C and γ. \n",
        "\n",
        "Report the average accuracy after 10 trials."
      ],
      "metadata": {
        "id": "Bce99OXmSR2t"
      }
    },
    {
      "cell_type": "code",
      "source": [
        "import pandas as pd\n",
        "import numpy as np\n",
        "from sklearn.datasets import load_iris\n",
        "from sklearn import svm\n",
        "from sklearn.model_selection import train_test_split\n",
        "from sklearn.decomposition import PCA\n",
        "\n",
        "sum = 0\n",
        "\n",
        "for _ in range(10):\n",
        "  iris = load_iris()\n",
        "  df_data = pd.DataFrame(data= np.c_[iris['data'], iris['target']],\n",
        "                     columns= ['SepalLengthCm','SepalWidthCm','PetalLengthCm','PetalWidthCm','Species'])\n",
        "  X = df_data.drop(labels=['Species'],axis=1).values\n",
        "  y = df_data['Species'].values\n",
        "  X_train, X_test, y_train, y_test = train_test_split(X, y, test_size=0.3, random_state=42, stratify=y)\n",
        "\n",
        "  pca = PCA(n_components=2, iterated_power=1)\n",
        "  train_reduced = pca.fit_transform(X_train)\n",
        "\n",
        "  rbfModel=svm.SVC(kernel='rbf', gamma=0.7, C=1) # kernel = 'Radial Basis Function'\n",
        "  rbfModel.fit(train_reduced, y_train)\n",
        "  predicted=rbfModel.predict(train_reduced)\n",
        "  sum += rbfModel.score(train_reduced, y_train)\n",
        "\n",
        "print('Accuracy rate: ', sum / 10)"
      ],
      "metadata": {
        "colab": {
          "base_uri": "https://localhost:8080/"
        },
        "id": "MFaRn2naTm0R",
        "outputId": "323acf4e-a856-4c3d-fec5-4a09a1f3a9a3"
      },
      "execution_count": 1,
      "outputs": [
        {
          "output_type": "stream",
          "name": "stdout",
          "text": [
            "Accuracy rate:  0.9714285714285713\n"
          ]
        }
      ]
    }
  ]
}