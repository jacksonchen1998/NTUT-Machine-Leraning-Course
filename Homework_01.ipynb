{
  "nbformat": 4,
  "nbformat_minor": 0,
  "metadata": {
    "colab": {
      "name": "Homework 01.ipynb",
      "provenance": [],
      "collapsed_sections": [],
      "authorship_tag": "ABX9TyOHE98kWGS2/OzQbS7DgzS/",
      "include_colab_link": true
    },
    "kernelspec": {
      "name": "python3",
      "display_name": "Python 3"
    },
    "language_info": {
      "name": "python"
    }
  },
  "cells": [
    {
      "cell_type": "markdown",
      "metadata": {
        "id": "view-in-github",
        "colab_type": "text"
      },
      "source": [
        "<a href=\"https://colab.research.google.com/github/jacksonchen1998/NTUT-Machine-Leraning-Course/blob/main/Homework_01.ipynb\" target=\"_parent\"><img src=\"https://colab.research.google.com/assets/colab-badge.svg\" alt=\"Open In Colab\"/></a>"
      ]
    },
    {
      "cell_type": "markdown",
      "source": [
        "UC Irvine has a large repository for various kinds of data. In this problem, you are asked to use the iris dataset to perform the experiments. \n",
        "\n",
        "Use the **k-NN classifier** for the classification task with k = 7. \n",
        "\n",
        "To begin one trial, randomly draw 70% of the instances for training and the rest for testing. \n",
        "\n",
        "Repeat the trials 10 times and compute the average accuracy.\n",
        "\n",
        "Note: you can directly import iris dataset by using sklearn without downloading from the UC Irvine repository. "
      ],
      "metadata": {
        "id": "wrsfkOjsC9jZ"
      }
    },
    {
      "cell_type": "code",
      "execution_count": 1,
      "metadata": {
        "colab": {
          "base_uri": "https://localhost:8080/"
        },
        "id": "yZ0EA0Q_C8KO",
        "outputId": "17151c53-c801-4fed-9984-50a331205213"
      },
      "outputs": [
        {
          "output_type": "stream",
          "name": "stdout",
          "text": [
            "0.9555555555555556\n",
            "1.0\n",
            "1.0\n",
            "0.9777777777777777\n",
            "1.0\n",
            "0.9333333333333333\n",
            "0.9555555555555556\n",
            "0.9555555555555556\n",
            "0.9333333333333333\n",
            "0.9555555555555556\n"
          ]
        }
      ],
      "source": [
        "from sklearn import datasets\n",
        "from sklearn.model_selection import train_test_split\n",
        "from sklearn.neighbors import KNeighborsClassifier\n",
        "import numpy as np\n",
        "\n",
        "for i in range(0, 10):\n",
        "  iris = datasets.load_iris()\n",
        "  iris_data = iris.data\n",
        "  iris_label = iris.target\n",
        "  train_data, test_data, train_label, test_label = train_test_split(iris_data,iris_label,test_size=0.3)\n",
        "  knn = KNeighborsClassifier(7)\n",
        "  knn.fit(train_data,train_label)\n",
        "  print(knn.score(test_data, test_label))"
      ]
    },
    {
      "cell_type": "markdown",
      "source": [
        "**Using 60% of the data as the training set, 20% as the validation set, and the rest 20% as test set.**\n",
        "\n",
        "Vary k from 3 to 11 and use the validation set to determine the best value of k. \n",
        "\n",
        "The value of k must be determined based on average of 10 trials. \n",
        "\n",
        "Once k is known, find the average accuracy of 10 trials based on the best K."
      ],
      "metadata": {
        "id": "Jz3vo8yHEq6C"
      }
    },
    {
      "cell_type": "code",
      "source": [
        "from sklearn import datasets\n",
        "from sklearn.model_selection import train_test_split\n",
        "from sklearn.neighbors import KNeighborsClassifier\n",
        "import numpy as np\n",
        "\n",
        "arr = []\n",
        "arr = [0.0 for i in range(9)] \n",
        "\n",
        "for i in range(0, 10):\n",
        "  iris = datasets.load_iris()\n",
        "  iris_data = iris.data\n",
        "  iris_label = iris.target\n",
        "  train_data, test_data, train_label, test_label = train_test_split(iris_data,iris_label,test_size=0.4)\n",
        "  valid_data, test_data_2, valid_label, test_label_2 = train_test_split(train_data, train_label, test_size=0.5)\n",
        "\n",
        "  for j in range(3, 12):\n",
        "    knn = KNeighborsClassifier(j)\n",
        "    knn.fit(train_data,train_label)\n",
        "    arr[j - 3] = arr[j - 3] + knn.score(test_data_2, test_label_2)\n",
        "\n",
        "for k in range(0, 9):\n",
        "  print(\"When k = %d, the probability is %lf\" % (k + 3, arr[k] / 10))"
      ],
      "metadata": {
        "colab": {
          "base_uri": "https://localhost:8080/"
        },
        "id": "GM6QWE-8FKaE",
        "outputId": "4e2570de-0eb2-4e4e-b809-7bc3ba274812"
      },
      "execution_count": 22,
      "outputs": [
        {
          "output_type": "stream",
          "name": "stdout",
          "text": [
            "When k = 3, the probability is 0.957778\n",
            "When k = 4, the probability is 0.966667\n",
            "When k = 5, the probability is 0.964444\n",
            "When k = 6, the probability is 0.968889\n",
            "When k = 7, the probability is 0.966667\n",
            "When k = 8, the probability is 0.968889\n",
            "When k = 9, the probability is 0.964444\n",
            "When k = 10, the probability is 0.962222\n",
            "When k = 11, the probability is 0.962222\n"
          ]
        }
      ]
    }
  ]
}